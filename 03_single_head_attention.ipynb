{
 "cells": [
  {
   "cell_type": "code",
   "execution_count": 3,
   "metadata": {},
   "outputs": [],
   "source": [
    "import torch\n",
    "import torch.nn as nn\n",
    "import math"
   ]
  },
  {
   "cell_type": "markdown",
   "metadata": {},
   "source": [
    "________________________________________________________________"
   ]
  },
  {
   "cell_type": "code",
   "execution_count": 6,
   "metadata": {},
   "outputs": [],
   "source": [
    "class SingleHeadAttention(nn.Module):\n",
    "\n",
    "    def __init__(self, hidden_size: int, bias: bool=True):\n",
    "        super.__init__()\n",
    "\n",
    "        head_size = hidden_size//4 # this is arbitarily determined\n",
    "        ''' linear layer to generate query, key and value'''\n",
    "        self.Wqkv = nn. Linear(hidden_size, head_size*3, bias=bias)\n",
    "        # The output size is arbitarily fixed and then multiplied by 3 to merge Wq,Wk,Wv\n",
    "        \n",
    "        '''projection layer to project the final output (back to original token shape)'''\n",
    "        self.proj = nn.Linear(head_size, hidden_size, bias=bias)\n",
    "\n",
    "    def forward(self, X:torch.Tensor):\n",
    "\n",
    "        '''B=batch size, S=sequence length, C=input dimension'''\n",
    "        B, S, C = X.shape\n",
    "\n",
    "        ''' split into q, k, v '''\n",
    "        q, k, v = self.Wqkv(X).reshape(B,S,3,C//4).unbind(dim=2)\n",
    "\n",
    "        '''compute dot product of q and k transpose'''\n",
    "        attn = q@k.transpose(-2,-1)\n",
    "        '''scale the dot product by dk'''\n",
    "        attn=attn/math.sqrt(k.size(-1))\n",
    "        '''softmax the output'''\n",
    "        attn=attn.softmax(dim=-1)\n",
    "        '''dot product with v'''\n",
    "        attn = attn @ v\n",
    "\n",
    "        return self.proj(attn)"
   ]
  },
  {
   "cell_type": "markdown",
   "metadata": {},
   "source": [
    "_________________________________________"
   ]
  },
  {
   "cell_type": "code",
   "execution_count": null,
   "metadata": {},
   "outputs": [],
   "source": []
  }
 ],
 "metadata": {
  "kernelspec": {
   "display_name": "Python 3",
   "language": "python",
   "name": "python3"
  },
  "language_info": {
   "codemirror_mode": {
    "name": "ipython",
    "version": 3
   },
   "file_extension": ".py",
   "mimetype": "text/x-python",
   "name": "python",
   "nbconvert_exporter": "python",
   "pygments_lexer": "ipython3",
   "version": "3.10.12"
  }
 },
 "nbformat": 4,
 "nbformat_minor": 2
}
