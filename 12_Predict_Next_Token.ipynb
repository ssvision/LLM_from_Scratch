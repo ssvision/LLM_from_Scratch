{
 "cells": [
  {
   "cell_type": "code",
   "execution_count": 21,
   "id": "26644cf6",
   "metadata": {},
   "outputs": [],
   "source": [
    "import torch\n",
    "import torch.nn as nn\n",
    "\n",
    "from Layers import GPTBlock\n",
    "import tiktoken"
   ]
  },
  {
   "cell_type": "code",
   "execution_count": 22,
   "id": "19f103fa",
   "metadata": {},
   "outputs": [],
   "source": [
    "\n",
    "def generate_text_simple(model, idx, max_new_tokens, context_size):\n",
    "\n",
    "    '''\n",
    "    model = the GPT model of the system\n",
    "    idx = the output of the GPT model (batch_size, num_tokens)\n",
    "    max_new_tokens = the user defined parameter, how many new tokens should be generated\n",
    "    context_size = context size as per model config (e.g 1024 in case of GPT)\n",
    "    '''\n",
    "\n",
    "    for _ in range(max_new_tokens):\n",
    "\n",
    "\n",
    "        idx_cond = idx[:,-context_size:] # if num_tokens > context_size :, take only inputs corresponding to context_size from last \n",
    "\n",
    "        # Get the predictions:\n",
    "        with torch.no_grad():\n",
    "            logits = model(idx_cond)\n",
    "\n",
    "        # Extract the last row\n",
    "        logits  = logits[:,-1,:] # (batch, n_tokens, vocab_size) --> (batch, vocab_size)\n",
    "\n",
    "        # Apply softmax to get probabilities\n",
    "        probs = torch.softmax(logits, dim=-1) #(batch, vocab_size)\n",
    "\n",
    "\n",
    "        # Get the ID of vocab entry with highest prob. value\n",
    "        idx_next = torch.argmax(probs, dim=-1, keepdim=True) #(batch,1)\n",
    "\n",
    "        # Append sampled index to the running sequence\n",
    "        idx = torch.cat((idx, idx_next), dim=1) #(batch, num_tokens+1)\n",
    "\n",
    "    return idx"
   ]
  },
  {
   "cell_type": "markdown",
   "id": "c3a2eb39",
   "metadata": {},
   "source": [
    "_____________________"
   ]
  },
  {
   "cell_type": "code",
   "execution_count": 23,
   "id": "e99846c4",
   "metadata": {},
   "outputs": [
    {
     "name": "stdout",
     "output_type": "stream",
     "text": [
      "encoded: [15496, 11, 314, 716]\n",
      "encoded_tensor.shape: torch.Size([1, 4])\n"
     ]
    }
   ],
   "source": [
    "tokenizer = tiktoken.get_encoding(\"gpt2\")\n",
    "start_context = \"Hello, I am\"\n",
    "encoded = tokenizer.encode(start_context)\n",
    "print(\"encoded:\", encoded)\n",
    "encoded_tensor = torch.tensor(encoded).unsqueeze(0) #A\n",
    "print(\"encoded_tensor.shape:\", encoded_tensor.shape)"
   ]
  },
  {
   "cell_type": "code",
   "execution_count": 24,
   "id": "c16f36c4",
   "metadata": {},
   "outputs": [
    {
     "data": {
      "text/plain": [
       "tensor([[15496,    11,   314,   716]])"
      ]
     },
     "execution_count": 24,
     "metadata": {},
     "output_type": "execute_result"
    }
   ],
   "source": [
    "cs = 5\n",
    "idx_cond = encoded_tensor[:,-cs:] # if num_tokens > context_size :, take only inputs corresponding to context_size from last \n",
    "idx_cond\n"
   ]
  },
  {
   "cell_type": "code",
   "execution_count": 25,
   "id": "23482f48",
   "metadata": {},
   "outputs": [],
   "source": [
    "GPT_CONFIG_124M = {\n",
    "    \"vocab_size\" : 50527,  # total no of unique tokens\n",
    "    \"context_length\" : 1024,  # seq length or context length\n",
    "    \"emb_dim\" : 768, # embedding dim, hidden dim, d_model\n",
    "    \"n_heads\" : 12, # number of attention heads in MHA\n",
    "    \"n_layers\" : 12, # number of transformer layers\n",
    "    \"drop_rate\" : 0.1, # dropout rate\n",
    "    \"qkv_bias\" : False # Query Key Value \n",
    "}"
   ]
  },
  {
   "cell_type": "code",
   "execution_count": 26,
   "id": "120c2f84",
   "metadata": {},
   "outputs": [],
   "source": [
    "model = GPTBlock(GPT_CONFIG_124M)"
   ]
  },
  {
   "cell_type": "code",
   "execution_count": 27,
   "id": "8bc4d357",
   "metadata": {},
   "outputs": [
    {
     "name": "stdout",
     "output_type": "stream",
     "text": [
      "Output: tensor([[15496,    11,   314,   716, 47124,  9319,  6360,  5580, 42286, 38902]])\n",
      "Output length: 10\n"
     ]
    }
   ],
   "source": [
    "model.eval() #A\n",
    "out = generate_text_simple(\n",
    "model=model,\n",
    "idx=encoded_tensor,\n",
    "max_new_tokens=6,\n",
    "context_size=GPT_CONFIG_124M[\"context_length\"]\n",
    ")\n",
    "print(\"Output:\", out)\n",
    "print(\"Output length:\", len(out[0]))"
   ]
  },
  {
   "cell_type": "code",
   "execution_count": 28,
   "id": "e256a69b",
   "metadata": {},
   "outputs": [
    {
     "name": "stdout",
     "output_type": "stream",
     "text": [
      "Hello, I am thirstylowcludingikiideshow 289\n"
     ]
    }
   ],
   "source": [
    "decoded_text = tokenizer.decode(out.squeeze(0).tolist())\n",
    "print(decoded_text)"
   ]
  },
  {
   "cell_type": "markdown",
   "id": "a5b3420e",
   "metadata": {},
   "source": [
    "Output is gibberish as model is not trained properly."
   ]
  },
  {
   "cell_type": "markdown",
   "id": "3b68dd9b",
   "metadata": {},
   "source": [
    "________________________________________________"
   ]
  },
  {
   "cell_type": "code",
   "execution_count": 29,
   "id": "d78596df",
   "metadata": {},
   "outputs": [
    {
     "name": "stdout",
     "output_type": "stream",
     "text": [
      "encoded: [18308, 1787, 353, 318, 281, 4998, 5337, 2168]\n",
      "encoded_tensor.shape: torch.Size([1, 8])\n"
     ]
    }
   ],
   "source": [
    "tokenizer = tiktoken.get_encoding(\"gpt2\")\n",
    "start_context = \"Harry potter is an amazing novel series\"\n",
    "encoded = tokenizer.encode(start_context)\n",
    "print(\"encoded:\", encoded)\n",
    "encoded_tensor = torch.tensor(encoded).unsqueeze(0) #A\n",
    "print(\"encoded_tensor.shape:\", encoded_tensor.shape)"
   ]
  },
  {
   "cell_type": "code",
   "execution_count": 30,
   "id": "939e63c8",
   "metadata": {},
   "outputs": [
    {
     "data": {
      "text/plain": [
       "tensor([[ 318,  281, 4998, 5337, 2168]])"
      ]
     },
     "execution_count": 30,
     "metadata": {},
     "output_type": "execute_result"
    }
   ],
   "source": [
    "context_size = 5\n",
    "out_2 = encoded_tensor[:,-context_size:] # if num_tokens > context_size :, take only inputs corresponding to context_size from last \n",
    "out_2"
   ]
  },
  {
   "cell_type": "code",
   "execution_count": null,
   "id": "9528b598",
   "metadata": {},
   "outputs": [],
   "source": []
  }
 ],
 "metadata": {
  "kernelspec": {
   "display_name": "Python 3",
   "language": "python",
   "name": "python3"
  },
  "language_info": {
   "codemirror_mode": {
    "name": "ipython",
    "version": 3
   },
   "file_extension": ".py",
   "mimetype": "text/x-python",
   "name": "python",
   "nbconvert_exporter": "python",
   "pygments_lexer": "ipython3",
   "version": "3.10.12"
  }
 },
 "nbformat": 4,
 "nbformat_minor": 5
}
