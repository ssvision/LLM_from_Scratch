{
 "cells": [
  {
   "cell_type": "markdown",
   "id": "e67e4051",
   "metadata": {},
   "source": [
    "Thi is a fixed positional encoding as seen in Attention is all you need paper."
   ]
  },
  {
   "cell_type": "code",
   "execution_count": null,
   "id": "d4b05e98",
   "metadata": {},
   "outputs": [],
   "source": [
    "import torch"
   ]
  },
  {
   "cell_type": "code",
   "execution_count": null,
   "id": "e19df9d8",
   "metadata": {},
   "outputs": [],
   "source": []
  },
  {
   "cell_type": "markdown",
   "id": "a0bfb51d",
   "metadata": {},
   "source": []
  }
 ],
 "metadata": {
  "kernelspec": {
   "display_name": "Python 3",
   "language": "python",
   "name": "python3"
  },
  "language_info": {
   "name": "python",
   "version": "3.10.12"
  }
 },
 "nbformat": 4,
 "nbformat_minor": 5
}
