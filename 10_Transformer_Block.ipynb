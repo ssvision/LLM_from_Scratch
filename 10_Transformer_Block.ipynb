{
 "cells": [
  {
   "cell_type": "code",
   "execution_count": 10,
   "id": "acf50dbd",
   "metadata": {},
   "outputs": [],
   "source": [
    "import torch\n",
    "import torch.nn as nn\n",
    "from Layers import MultiHeadCausalAttention"
   ]
  },
  {
   "cell_type": "code",
   "execution_count": 11,
   "id": "1b6d303e",
   "metadata": {},
   "outputs": [],
   "source": [
    "GPT_CONFIG_124M = {\n",
    "    \"vocab_size\" : 50527,  # total no of unique tokens\n",
    "    \"context_length\" : 1024,  # seq length or context length\n",
    "    \"emb_dim\" : 768, # embedding dim, hidden dim, d_model\n",
    "    \"n_heads\" : 12, # number of attentio heads in MHA\n",
    "    \"n_layers\" : 12, # number of transformer layers\n",
    "    \"drop_rate\" : 0.1, # dropout rate\n",
    "    \"qkv_bias\" : False # Query Key Value \n",
    "}"
   ]
  },
  {
   "cell_type": "code",
   "execution_count": 12,
   "id": "67b9e91b",
   "metadata": {},
   "outputs": [
    {
     "data": {
      "text/plain": [
       "768"
      ]
     },
     "execution_count": 12,
     "metadata": {},
     "output_type": "execute_result"
    }
   ],
   "source": [
    "cc = GPT_CONFIG_124M\n",
    "cc[\"emb_dim\"]"
   ]
  },
  {
   "cell_type": "code",
   "execution_count": 13,
   "id": "da7c8912",
   "metadata": {},
   "outputs": [],
   "source": [
    "'''\n",
    "This is the Feed Forward Block in the Transformer block, which is an expansion contraction layer\n",
    "'''\n",
    "\n",
    "class FeedForwardBlock(nn.Module):\n",
    "    def __init__(self, cfg: dict, *args, **kwargs):\n",
    "        super().__init__(*args, **kwargs)\n",
    "    \n",
    "        self.layers = nn.Sequential(\n",
    "                        nn.Linear(cfg[\"emb_dim\"], 4 * cfg[\"emb_dim\"]), #expansion\n",
    "                        nn.GELU(), #activation\n",
    "                        nn.Linear(4*cfg[\"emb_dim\"], cfg[\"emb_dim\"]) #contraction\n",
    "                        )\n",
    "        \n",
    "    def forward(self, X):\n",
    "        return self.layers(X)"
   ]
  },
  {
   "cell_type": "code",
   "execution_count": 14,
   "id": "0af16285",
   "metadata": {},
   "outputs": [],
   "source": [
    "class TransformerBlock(nn.Module):\n",
    "\n",
    "    def __init__(self,cfg, *args, **kwargs):\n",
    "        super().__init__(*args, **kwargs)\n",
    "\n",
    "        self.causal_multi_head_attention = MultiHeadCausalAttention(d_in = cfg[\"emb_dim\"],\n",
    "                                                                    d_out=cfg[\"emb_dim\"],\n",
    "                                                                    context_length=cfg[\"context_length\"],\n",
    "                                                                    num_heads=cfg[\"n_heads\"],\n",
    "                                                                    dropout=cfg[\"drop_rate\"],\n",
    "                                                                    qkv_bias=cfg[\"qkv_bias\"])\n",
    "        self.feed_forward_block = FeedForwardBlock(cfg)\n",
    "        self.dropout_layer = nn.Dropout(cfg[\"drop_rate\"])\n",
    "        self.layer_norm = nn.LayerNorm(cfg[\"emb_dim\"])\n",
    "\n",
    "\n",
    "    def forward(self, X):\n",
    "        out = X\n",
    "\n",
    "        X = self.layer_norm(X)\n",
    "        X = self.causal_multi_head_attention(X)\n",
    "        X = self.dropout_layer(X) \n",
    "        X = X + out\n",
    "\n",
    "        out = X\n",
    "        X = self.layer_norm(X)\n",
    "        X = self.feed_forward_block(X)\n",
    "        X = self.dropout_layer(X)\n",
    "        X = X + out\n",
    "\n",
    "        return X"
   ]
  },
  {
   "cell_type": "markdown",
   "id": "e8e68649",
   "metadata": {},
   "source": [
    "__________________________________________________"
   ]
  },
  {
   "cell_type": "code",
   "execution_count": 15,
   "id": "b97ffee3",
   "metadata": {},
   "outputs": [
    {
     "data": {
      "text/plain": [
       "torch.Size([2, 4, 768])"
      ]
     },
     "execution_count": 15,
     "metadata": {},
     "output_type": "execute_result"
    }
   ],
   "source": [
    "X = torch.randn(2, 4, 768)\n",
    "transformer_block = TransformerBlock(cfg=GPT_CONFIG_124M)\n",
    "out = transformer_block(X)\n",
    "out.shape"
   ]
  },
  {
   "cell_type": "markdown",
   "id": "20f55c5b",
   "metadata": {},
   "source": [
    "__________________"
   ]
  },
  {
   "cell_type": "code",
   "execution_count": 17,
   "id": "2b7ffd64",
   "metadata": {},
   "outputs": [
    {
     "data": {
      "text/plain": [
       "torch.Size([2, 4, 768])"
      ]
     },
     "execution_count": 17,
     "metadata": {},
     "output_type": "execute_result"
    }
   ],
   "source": [
    "transformer_blocks = nn.Sequential(\n",
    "            *[TransformerBlock(cfg=GPT_CONFIG_124M) for _ in range(2)])\n",
    "out = transformer_blocks(X)\n",
    "out.shape\n"
   ]
  },
  {
   "cell_type": "code",
   "execution_count": null,
   "id": "00634b72",
   "metadata": {},
   "outputs": [],
   "source": []
  }
 ],
 "metadata": {
  "kernelspec": {
   "display_name": "Python 3",
   "language": "python",
   "name": "python3"
  },
  "language_info": {
   "codemirror_mode": {
    "name": "ipython",
    "version": 3
   },
   "file_extension": ".py",
   "mimetype": "text/x-python",
   "name": "python",
   "nbconvert_exporter": "python",
   "pygments_lexer": "ipython3",
   "version": "3.10.12"
  }
 },
 "nbformat": 4,
 "nbformat_minor": 5
}
