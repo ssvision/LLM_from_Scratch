{
 "cells": [
  {
   "cell_type": "code",
   "execution_count": 26,
   "id": "8e00dccc",
   "metadata": {},
   "outputs": [],
   "source": [
    "import torch\n",
    "import torch.nn as nn\n",
    "import torch.nn.functional as F\n",
    "\n",
    "import tiktoken\n",
    "from torch.utils.data import Dataset, DataLoader\n",
    "from Layers import *\n"
   ]
  },
  {
   "cell_type": "code",
   "execution_count": 27,
   "id": "861438e1",
   "metadata": {},
   "outputs": [],
   "source": [
    "# Get the input data\n",
    "with open(\"the-verdict.txt\", \"r\", encoding=\"utf-8\") as f:\n",
    "    text_data = f.read()"
   ]
  },
  {
   "cell_type": "code",
   "execution_count": 28,
   "id": "d3c79444",
   "metadata": {},
   "outputs": [
    {
     "name": "stdout",
     "output_type": "stream",
     "text": [
      "I HAD always thought Jack Gisburn rather a cheap genius--though a good fellow enough--so it was no \n"
     ]
    }
   ],
   "source": [
    "print(text_data[:99])"
   ]
  },
  {
   "cell_type": "code",
   "execution_count": 29,
   "id": "24a5f83f",
   "metadata": {},
   "outputs": [
    {
     "name": "stdout",
     "output_type": "stream",
     "text": [
      "Number of characters in data : 20479\n",
      "Total number of tokens in data is : 5145\n"
     ]
    }
   ],
   "source": [
    "print(f\"Number of characters in data : {len(text_data)}\")\n",
    "tokenizer = tiktoken.get_encoding(\"gpt2\")\n",
    "tokenized_text_data = tokenizer.encode(text_data)\n",
    "print(f\"Total number of tokens in data is : {len(tokenized_text_data)}\")"
   ]
  },
  {
   "cell_type": "code",
   "execution_count": 30,
   "id": "ce5c7f51",
   "metadata": {},
   "outputs": [],
   "source": [
    "GPT_CONFIG_124M = {\n",
    "    \"vocab_size\" : 50527,  # total no of unique tokens\n",
    "    \"context_length\" : 256,  # seq length or context length\n",
    "    \"emb_dim\" : 768, # embedding dim, hidden dim, d_model\n",
    "    \"n_heads\" : 12, # number of attention heads in MHA\n",
    "    \"n_layers\" : 12, # number of transformer layers\n",
    "    \"drop_rate\" : 0.1, # dropout rate\n",
    "    \"qkv_bias\" : False # Query Key Value \n",
    "}"
   ]
  },
  {
   "cell_type": "code",
   "execution_count": 31,
   "id": "6113cedc",
   "metadata": {},
   "outputs": [],
   "source": [
    "# Splitting the training and validation data\n",
    "train_ratio = 0.9\n",
    "split_idx = int(train_ratio * len(text_data))\n",
    "train_data = text_data[:split_idx]\n",
    "val_data = text_data[split_idx:]"
   ]
  },
  {
   "cell_type": "code",
   "execution_count": 32,
   "id": "15db0126",
   "metadata": {},
   "outputs": [],
   "source": [
    "train_loader = CreateGPTDatasetV1.create_dataloader_v1(txt = train_data, batch_size=2, max_length=GPT_CONFIG_124M[\"context_length\"], stride=GPT_CONFIG_124M[\"context_length\"])\n",
    "val_loader = CreateGPTDatasetV1.create_dataloader_v1(txt = val_data, batch_size=2, max_length=GPT_CONFIG_124M[\"context_length\"], stride=GPT_CONFIG_124M[\"context_length\"])\n"
   ]
  },
  {
   "cell_type": "code",
   "execution_count": 33,
   "id": "c2971e32",
   "metadata": {},
   "outputs": [],
   "source": [
    "gpt_model = GPTBlock(cfg=GPT_CONFIG_124M)"
   ]
  },
  {
   "cell_type": "code",
   "execution_count": 34,
   "id": "7690efb1",
   "metadata": {},
   "outputs": [],
   "source": [
    "torch.manual_seed(123)\n",
    "gpt_model.eval();"
   ]
  },
  {
   "cell_type": "code",
   "execution_count": 35,
   "id": "a48a316b",
   "metadata": {},
   "outputs": [],
   "source": [
    "def compute_batch_loss(input_batch, target_batch, model, device):\n",
    "    input_batch, target_batch = input_batch.to(device), target_batch.to(device)\n",
    "    logits = model(input_batch)\n",
    "    loss = F.cross_entropy(logits.flatten(0,1), target_batch.flatten())\n",
    "    return loss\n",
    "\n",
    "def compute_loader_loss(data_loader, model, device, num_batches=None):\n",
    "    # compute avg loss in a batch in a dataloader\n",
    "    total_loss = 0.\n",
    "    if len(data_loader) == 0:\n",
    "        return float(\"nan\")\n",
    "    elif num_batches is None:\n",
    "        num_batches = len(data_loader)\n",
    "    else:\n",
    "        # Reduce the number of batches to match the total number of batches in the data loader\n",
    "        # if num_batches exceeds the number of batches in the data loader\n",
    "        num_batches = min(num_batches, len(data_loader))\n",
    "    for i, (input_batch, target_batch) in enumerate(data_loader):\n",
    "        if i < num_batches:\n",
    "            loss = compute_batch_loss(input_batch, target_batch, model, device)\n",
    "            total_loss += loss.item()\n",
    "        else:\n",
    "            break\n",
    "    return total_loss / num_batches"
   ]
  },
  {
   "cell_type": "code",
   "execution_count": 36,
   "id": "994d427e",
   "metadata": {},
   "outputs": [
    {
     "name": "stdout",
     "output_type": "stream",
     "text": [
      "Training loss: 10.994041866726345\n",
      "Validation loss: 10.96313762664795\n"
     ]
    }
   ],
   "source": [
    "device = torch.device(\"cuda\" if torch.cuda.is_available() else \"cpu\")\n",
    "\n",
    "# Note:\n",
    "# Uncommenting the following lines will allow the code to run on Apple Silicon chips, if applicable,\n",
    "# which is approximately 2x faster than on an Apple CPU (as measured on an M3 MacBook Air).\n",
    "# However, the resulting loss values may be slightly different.\n",
    "\n",
    "#if torch.cuda.is_available():\n",
    "#    device = torch.device(\"cuda\")\n",
    "#elif torch.backends.mps.is_available():\n",
    "#    device = torch.device(\"mps\")\n",
    "#else:\n",
    "#    device = torch.device(\"cpu\")\n",
    "#\n",
    "# print(f\"Using {device} device.\")\n",
    "\n",
    "\n",
    "gpt_model.to(device) # no assignment model = model.to(device) necessary for nn.Module classes\n",
    "\n",
    "\n",
    "torch.manual_seed(123) # For reproducibility due to the shuffling in the data loader\n",
    "\n",
    "with torch.no_grad(): # Disable gradient tracking for efficiency because we are not training, yet\n",
    "    train_loss = compute_loader_loss(train_loader, gpt_model, device)\n",
    "    val_loss = compute_loader_loss(val_loader, gpt_model, device)\n",
    "\n",
    "print(\"Training loss:\", train_loss)\n",
    "print(\"Validation loss:\", val_loss)"
   ]
  },
  {
   "cell_type": "code",
   "execution_count": null,
   "id": "5d672196",
   "metadata": {},
   "outputs": [],
   "source": []
  }
 ],
 "metadata": {
  "kernelspec": {
   "display_name": "Python 3",
   "language": "python",
   "name": "python3"
  },
  "language_info": {
   "codemirror_mode": {
    "name": "ipython",
    "version": 3
   },
   "file_extension": ".py",
   "mimetype": "text/x-python",
   "name": "python",
   "nbconvert_exporter": "python",
   "pygments_lexer": "ipython3",
   "version": "3.10.12"
  }
 },
 "nbformat": 4,
 "nbformat_minor": 5
}
