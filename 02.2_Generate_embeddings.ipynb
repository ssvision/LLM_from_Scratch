{
 "cells": [
  {
   "cell_type": "code",
   "execution_count": 55,
   "id": "25848bd8",
   "metadata": {},
   "outputs": [],
   "source": [
    "import torch\n",
    "import torch.nn as nn\n",
    "from torch.utils.data import Dataset, DataLoader\n",
    "import tiktoken"
   ]
  },
  {
   "cell_type": "markdown",
   "id": "fba3fcb4",
   "metadata": {},
   "source": [
    "Using class and function from previous file"
   ]
  },
  {
   "cell_type": "code",
   "execution_count": 56,
   "id": "5f1af065",
   "metadata": {},
   "outputs": [],
   "source": [
    "class CreateGPTDatasetV1(Dataset):\n",
    "    def __init__(self, txt: str, tokenizer: tiktoken.Encoding, context_length: int, stride: int):\n",
    "        \n",
    "        self.input_ids = []\n",
    "        self.target_ids = []\n",
    "\n",
    "        # Tokenize the entire text\n",
    "        token_ids = tokenizer.encode(txt, allowed_special={\"<|endoftext|>\"})\n",
    "\n",
    "\n",
    "        # Split into input and target using a sliding window approach\n",
    "        for i in range(0, len(token_ids)-context_length, stride):\n",
    "\n",
    "            input_chunk = token_ids[i:i+context_length]\n",
    "            output_chunk = token_ids[i+1:i+1+context_length]\n",
    "\n",
    "            self.input_ids.append(torch.tensor(input_chunk))\n",
    "            self.target_ids.append(torch.tensor(output_chunk))\n",
    "\n",
    "    def __len__(self):\n",
    "        return len(self.input_ids)\n",
    "    \n",
    "    def __getitem__(self, idx):\n",
    "        return self.input_ids[idx], self.target_ids[idx]"
   ]
  },
  {
   "cell_type": "code",
   "execution_count": 57,
   "id": "fdbd73ba",
   "metadata": {},
   "outputs": [],
   "source": [
    "def create_dataloader_v1(txt, batch_size, max_length, \n",
    "                         stride, shuffle=True, drop_last=True,\n",
    "                         num_workers=0):\n",
    "\n",
    "    # Initialize the tokenizer\n",
    "    tokenizer = tiktoken.get_encoding(\"gpt2\")\n",
    "\n",
    "    # Create dataset\n",
    "    dataset = CreateGPTDatasetV1(txt, tokenizer, max_length, stride)\n",
    "\n",
    "    # Create dataloader\n",
    "    dataloader = DataLoader(\n",
    "        dataset,\n",
    "        batch_size=batch_size,\n",
    "        shuffle=shuffle,\n",
    "        drop_last=drop_last,\n",
    "        num_workers=num_workers\n",
    "    )\n",
    "\n",
    "    return dataloader"
   ]
  },
  {
   "cell_type": "markdown",
   "id": "7611d051",
   "metadata": {},
   "source": [
    "STEP1: Prepare DATA"
   ]
  },
  {
   "cell_type": "code",
   "execution_count": 58,
   "id": "95444390",
   "metadata": {},
   "outputs": [],
   "source": [
    "with open(\"the-verdict.txt\", \"r\", encoding=\"utf-8\") as f:\n",
    "    raw_text = f.read()\n",
    "tokenizer = tiktoken.get_encoding('gpt2')\n",
    "context_length = 4\n",
    "stride = 1"
   ]
  },
  {
   "cell_type": "code",
   "execution_count": 59,
   "id": "8108415d",
   "metadata": {},
   "outputs": [],
   "source": [
    "dataloader = create_dataloader_v1(txt=raw_text, batch_size=8, max_length=context_length,stride=stride)"
   ]
  },
  {
   "cell_type": "code",
   "execution_count": 60,
   "id": "ecb43389",
   "metadata": {},
   "outputs": [
    {
     "data": {
      "text/plain": [
       "torch.Size([8, 4])"
      ]
     },
     "execution_count": 60,
     "metadata": {},
     "output_type": "execute_result"
    }
   ],
   "source": [
    "batch_1_ip, batch_1_target = next(iter(dataloader))\n",
    "batch_1_ip.shape"
   ]
  },
  {
   "cell_type": "markdown",
   "id": "78f63d9a",
   "metadata": {},
   "source": [
    "A  minibatch of size = 8, containing a list of two tensors, 1st one is the inputs 1 to 8 and the 2nd one is targets 1 to 8. each row indicates a sequence of context size = 4"
   ]
  },
  {
   "cell_type": "markdown",
   "id": "43e3c123",
   "metadata": {},
   "source": [
    "STEP2: Create Embeddings"
   ]
  },
  {
   "cell_type": "code",
   "execution_count": null,
   "id": "662924bb",
   "metadata": {},
   "outputs": [],
   "source": [
    "# Create token embeddings\n",
    "''' vocab size =4, embedding dimension=256 '''\n",
    "\n",
    "vocab_size = 50257 # for GPT2 this is the vocab size\n",
    "token_embedding_layer = nn.Embedding(vocab_size, 256)"
   ]
  },
  {
   "cell_type": "code",
   "execution_count": 62,
   "id": "57141882",
   "metadata": {},
   "outputs": [
    {
     "data": {
      "text/plain": [
       "torch.Size([50257, 256])"
      ]
     },
     "execution_count": 62,
     "metadata": {},
     "output_type": "execute_result"
    }
   ],
   "source": [
    "token_embedding_layer.weight.shape"
   ]
  },
  {
   "cell_type": "code",
   "execution_count": 65,
   "id": "008b85bd",
   "metadata": {},
   "outputs": [
    {
     "data": {
      "text/plain": [
       "torch.Size([8, 4, 256])"
      ]
     },
     "execution_count": 65,
     "metadata": {},
     "output_type": "execute_result"
    }
   ],
   "source": [
    "# passing the 1st batch through the embeddings layer\n",
    "token_embeddings = token_embedding_layer(batch_1_ip)\n",
    "token_embeddings.shape"
   ]
  },
  {
   "cell_type": "code",
   "execution_count": 66,
   "id": "1b2401bd",
   "metadata": {},
   "outputs": [
    {
     "data": {
      "text/plain": [
       "torch.Size([4, 256])"
      ]
     },
     "execution_count": 66,
     "metadata": {},
     "output_type": "execute_result"
    }
   ],
   "source": [
    "# Create pos embeddings\n",
    "'''in pos embeddings context length will be vocab size since we are only concerned with the max no of tokens in the sequence. '''\n",
    "pos_embedding_layer = nn.Embedding(context_length, 256)\n",
    "pos_embedding_layer.weight.shape"
   ]
  },
  {
   "cell_type": "code",
   "execution_count": 67,
   "id": "a36c595f",
   "metadata": {},
   "outputs": [
    {
     "data": {
      "text/plain": [
       "torch.Size([4, 256])"
      ]
     },
     "execution_count": 67,
     "metadata": {},
     "output_type": "execute_result"
    }
   ],
   "source": [
    "pos_embeddings = pos_embedding_layer(torch.arange(context_length))\n",
    "pos_embeddings.shape"
   ]
  },
  {
   "cell_type": "code",
   "execution_count": 68,
   "id": "695da755",
   "metadata": {},
   "outputs": [
    {
     "data": {
      "text/plain": [
       "torch.Size([8, 4, 256])"
      ]
     },
     "execution_count": 68,
     "metadata": {},
     "output_type": "execute_result"
    }
   ],
   "source": [
    "final_embeddings = token_embeddings + pos_embeddings\n",
    "final_embeddings.shape"
   ]
  },
  {
   "cell_type": "code",
   "execution_count": null,
   "id": "c6637a0a",
   "metadata": {},
   "outputs": [],
   "source": []
  }
 ],
 "metadata": {
  "kernelspec": {
   "display_name": "Python 3",
   "language": "python",
   "name": "python3"
  },
  "language_info": {
   "codemirror_mode": {
    "name": "ipython",
    "version": 3
   },
   "file_extension": ".py",
   "mimetype": "text/x-python",
   "name": "python",
   "nbconvert_exporter": "python",
   "pygments_lexer": "ipython3",
   "version": "3.10.12"
  }
 },
 "nbformat": 4,
 "nbformat_minor": 5
}
