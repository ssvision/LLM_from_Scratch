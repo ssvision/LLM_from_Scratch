{
 "cells": [
  {
   "cell_type": "code",
   "execution_count": 1,
   "id": "5fb031bf",
   "metadata": {},
   "outputs": [],
   "source": [
    "import torch\n",
    "import torch.nn as nn\n",
    "from torch.utils.data import Dataset, DataLoader\n",
    "import tiktoken\n",
    "from Layers import *"
   ]
  },
  {
   "cell_type": "code",
   "execution_count": 2,
   "id": "1f697a65",
   "metadata": {},
   "outputs": [],
   "source": [
    "GPT_CONFIG_124M = {\n",
    "    \"vocab_size\" : 50527,  # total no of unique tokens\n",
    "    \"context_length\" : 1024,  # seq length or context length\n",
    "    \"emb_dim\" : 768, # embedding dim, hidden dim, d_model\n",
    "    \"n_heads\" : 12, # number of attention heads in MHA\n",
    "    \"n_layers\" : 12, # number of transformer layers\n",
    "    \"drop_rate\" : 0.1, # dropout rate\n",
    "    \"qkv_bias\" : False # Query Key Value \n",
    "}"
   ]
  },
  {
   "cell_type": "code",
   "execution_count": 3,
   "id": "1eb38bba",
   "metadata": {},
   "outputs": [],
   "source": [
    "class GPTBlock(nn.Module):\n",
    "\n",
    "    def __init__(self,cfg, *args, **kwargs):\n",
    "        super().__init__(*args, **kwargs)\n",
    "\n",
    "        self.token_embeddings = nn.Embedding(cfg[\"vocab_size\"], cfg[\"emb_dim\"])\n",
    "        self.pos_embeddings = nn.Embedding(cfg[\"context_length\"], cfg[\"emb_dim\"])\n",
    "        self.emb_dropout = nn.Dropout(cfg[\"drop_rate\"])\n",
    "        self.transformer_blocks = nn.Sequential(*[TransformerBlock(cfg) for _ in range(cfg[\"n_layers\"])])\n",
    "        self.final_norm = nn.LayerNorm(cfg[\"emb_dim\"])\n",
    "        self.out_head = nn.Linear(cfg[\"emb_dim\"], cfg[\"vocab_size\"], bias=False)\n",
    "\n",
    "    def forward(self, X):\n",
    "\n",
    "        '''\n",
    "        X is a minibatch of size (batch_size, seq_len)\n",
    "        '''\n",
    "        batch_size, seq_len = X.shape\n",
    "        token_embed = self.token_embeddings(X)\n",
    "        pos_embed = self.pos_embeddings(torch.arange(seq_len, device=X.device))\n",
    "        out = token_embed + pos_embed\n",
    "        out = self.emb_dropout(out)\n",
    "        out = self.transformer_blocks(out)\n",
    "        out = self.final_norm(out)\n",
    "        logits = self.out_head(out)\n",
    "\n",
    "        return logits\n",
    "\n"
   ]
  },
  {
   "cell_type": "markdown",
   "id": "236ebd95",
   "metadata": {},
   "source": [
    "_____________________"
   ]
  },
  {
   "cell_type": "code",
   "execution_count": 4,
   "id": "b49378ed",
   "metadata": {},
   "outputs": [
    {
     "name": "stdout",
     "output_type": "stream",
     "text": [
      "Inputs are :\n",
      " tensor([[  13,  632,  373,  465],\n",
      "        [ 832,  616, 7363,    0]])\n",
      "\n",
      "Inputs shape:\n",
      " torch.Size([2, 4])\n"
     ]
    }
   ],
   "source": [
    "# Get the input data\n",
    "with open(\"the-verdict.txt\", \"r\", encoding=\"utf-8\") as f:\n",
    "    raw_text = f.read()\n",
    "\n",
    "dataloader = CreateGPTDatasetV1.create_dataloader_v1(txt=raw_text, batch_size=2, max_length=4)\n",
    "data_iter = iter(dataloader)\n",
    "inputs, targets = next(data_iter)\n",
    "\n",
    "print(\"Inputs are :\\n\", inputs)\n",
    "print(\"\\nInputs shape:\\n\", inputs.shape)"
   ]
  },
  {
   "cell_type": "code",
   "execution_count": null,
   "id": "7826683a",
   "metadata": {},
   "outputs": [],
   "source": [
    "## NOTE\n",
    "'''\n",
    "The context length is 1024 but we only setting sequence lengths to be 4. These can be set to max value of context length.\n",
    "'''"
   ]
  },
  {
   "cell_type": "code",
   "execution_count": 5,
   "id": "01d35e39",
   "metadata": {},
   "outputs": [],
   "source": [
    "model = GPTBlock(GPT_CONFIG_124M)\n",
    "out = model(inputs)"
   ]
  },
  {
   "cell_type": "code",
   "execution_count": 6,
   "id": "9713e6e6",
   "metadata": {},
   "outputs": [
    {
     "data": {
      "text/plain": [
       "torch.Size([2, 4, 50527])"
      ]
     },
     "execution_count": 6,
     "metadata": {},
     "output_type": "execute_result"
    }
   ],
   "source": [
    "out.shape"
   ]
  },
  {
   "cell_type": "code",
   "execution_count": 7,
   "id": "3c2a3be2",
   "metadata": {},
   "outputs": [
    {
     "name": "stdout",
     "output_type": "stream",
     "text": [
      "Total number of parameters: 163,405,824\n"
     ]
    }
   ],
   "source": [
    "total_params = sum(p.numel() for p in model.parameters())\n",
    "print(f\"Total number of parameters: {total_params:,}\")"
   ]
  },
  {
   "cell_type": "code",
   "execution_count": 8,
   "id": "2a9deea7",
   "metadata": {},
   "outputs": [
    {
     "name": "stdout",
     "output_type": "stream",
     "text": [
      "Total size of the model: 623.34 MB\n"
     ]
    }
   ],
   "source": [
    "total_size_bytes = total_params * 4 #Assume each parameter is a 32bit floating point taking 4bytes\n",
    "total_size_mb = total_size_bytes / (1024 * 1024) #B\n",
    "print(f\"Total size of the model: {total_size_mb:.2f} MB\")"
   ]
  },
  {
   "cell_type": "code",
   "execution_count": null,
   "id": "48bfd391",
   "metadata": {},
   "outputs": [],
   "source": []
  }
 ],
 "metadata": {
  "kernelspec": {
   "display_name": "Python 3",
   "language": "python",
   "name": "python3"
  },
  "language_info": {
   "codemirror_mode": {
    "name": "ipython",
    "version": 3
   },
   "file_extension": ".py",
   "mimetype": "text/x-python",
   "name": "python",
   "nbconvert_exporter": "python",
   "pygments_lexer": "ipython3",
   "version": "3.10.12"
  }
 },
 "nbformat": 4,
 "nbformat_minor": 5
}
