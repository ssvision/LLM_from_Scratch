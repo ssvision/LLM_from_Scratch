{
 "cells": [
  {
   "cell_type": "code",
   "execution_count": 1,
   "id": "6d615c39",
   "metadata": {},
   "outputs": [],
   "source": [
    "import torch\n",
    "import tiktoken\n",
    "from torch.utils.data import Dataset, DataLoader"
   ]
  },
  {
   "cell_type": "code",
   "execution_count": 2,
   "id": "3f6306f0",
   "metadata": {},
   "outputs": [],
   "source": [
    "class CreateGPTDatasetV1(Dataset):\n",
    "    def __init__(self, txt: str, tokenizer: tiktoken.Encoding, context_length: int, stride: int):\n",
    "        \n",
    "        self.input_ids = []\n",
    "        self.target_ids = []\n",
    "\n",
    "        # Tokenize the entire text\n",
    "        token_ids = tokenizer.encode(txt, allowed_special={\"<|endoftext|>\"})\n",
    "\n",
    "\n",
    "        # Split into input and target using a sliding window approach\n",
    "        for i in range(0, len(token_ids)-context_length, stride):\n",
    "\n",
    "            input_chunk = token_ids[i:i+context_length]\n",
    "            output_chunk = token_ids[i+1:i+1+context_length]\n",
    "\n",
    "            self.input_ids.append(torch.tensor(input_chunk))\n",
    "            self.target_ids.append(torch.tensor(output_chunk))\n",
    "\n",
    "    def __len__(self):\n",
    "        return len(self.input_ids)\n",
    "    \n",
    "    def __getitem__(self, idx):\n",
    "        return self.input_ids[idx], self.target_ids[idx]"
   ]
  },
  {
   "cell_type": "code",
   "execution_count": 3,
   "id": "18e80924",
   "metadata": {},
   "outputs": [],
   "source": [
    "txt = \"Mumbai Indians is the most successful team in Indian Premier League. They have won the title five times.\"\n",
    "tokenizer = tiktoken.get_encoding('gpt2')\n",
    "context_length = 4\n",
    "stride = 1"
   ]
  },
  {
   "cell_type": "code",
   "execution_count": 4,
   "id": "07c1727b",
   "metadata": {},
   "outputs": [
    {
     "data": {
      "text/plain": [
       "[44,\n",
       " 21645,\n",
       " 12746,\n",
       " 318,\n",
       " 262,\n",
       " 749,\n",
       " 4388,\n",
       " 1074,\n",
       " 287,\n",
       " 3942,\n",
       " 9952,\n",
       " 4041,\n",
       " 13,\n",
       " 1119,\n",
       " 423,\n",
       " 1839,\n",
       " 262,\n",
       " 3670,\n",
       " 1936,\n",
       " 1661,\n",
       " 13]"
      ]
     },
     "execution_count": 4,
     "metadata": {},
     "output_type": "execute_result"
    }
   ],
   "source": [
    "txt_encoded = tokenizer.encode(txt, allowed_special={\"<|endoftext|>\"})\n",
    "txt_encoded"
   ]
  },
  {
   "cell_type": "code",
   "execution_count": 5,
   "id": "0e69c85f",
   "metadata": {},
   "outputs": [],
   "source": [
    "dataset = CreateGPTDatasetV1(txt, tokenizer, context_length, stride)"
   ]
  },
  {
   "cell_type": "code",
   "execution_count": 8,
   "id": "358fcc19",
   "metadata": {},
   "outputs": [
    {
     "data": {
      "text/plain": [
       "17"
      ]
     },
     "execution_count": 8,
     "metadata": {},
     "output_type": "execute_result"
    }
   ],
   "source": [
    "len(dataset)"
   ]
  },
  {
   "cell_type": "code",
   "execution_count": 9,
   "id": "96c1d58e",
   "metadata": {},
   "outputs": [
    {
     "data": {
      "text/plain": [
       "[tensor([   44, 21645, 12746,   318]),\n",
       " tensor([21645, 12746,   318,   262]),\n",
       " tensor([12746,   318,   262,   749]),\n",
       " tensor([ 318,  262,  749, 4388]),\n",
       " tensor([ 262,  749, 4388, 1074]),\n",
       " tensor([ 749, 4388, 1074,  287]),\n",
       " tensor([4388, 1074,  287, 3942]),\n",
       " tensor([1074,  287, 3942, 9952]),\n",
       " tensor([ 287, 3942, 9952, 4041]),\n",
       " tensor([3942, 9952, 4041,   13]),\n",
       " tensor([9952, 4041,   13, 1119]),\n",
       " tensor([4041,   13, 1119,  423]),\n",
       " tensor([  13, 1119,  423, 1839]),\n",
       " tensor([1119,  423, 1839,  262]),\n",
       " tensor([ 423, 1839,  262, 3670]),\n",
       " tensor([1839,  262, 3670, 1936]),\n",
       " tensor([ 262, 3670, 1936, 1661])]"
      ]
     },
     "execution_count": 9,
     "metadata": {},
     "output_type": "execute_result"
    }
   ],
   "source": [
    "dataset.input_ids"
   ]
  },
  {
   "cell_type": "code",
   "execution_count": 10,
   "id": "473efae5",
   "metadata": {},
   "outputs": [
    {
     "data": {
      "text/plain": [
       "[tensor([21645, 12746,   318,   262]),\n",
       " tensor([12746,   318,   262,   749]),\n",
       " tensor([ 318,  262,  749, 4388]),\n",
       " tensor([ 262,  749, 4388, 1074]),\n",
       " tensor([ 749, 4388, 1074,  287]),\n",
       " tensor([4388, 1074,  287, 3942]),\n",
       " tensor([1074,  287, 3942, 9952]),\n",
       " tensor([ 287, 3942, 9952, 4041]),\n",
       " tensor([3942, 9952, 4041,   13]),\n",
       " tensor([9952, 4041,   13, 1119]),\n",
       " tensor([4041,   13, 1119,  423]),\n",
       " tensor([  13, 1119,  423, 1839]),\n",
       " tensor([1119,  423, 1839,  262]),\n",
       " tensor([ 423, 1839,  262, 3670]),\n",
       " tensor([1839,  262, 3670, 1936]),\n",
       " tensor([ 262, 3670, 1936, 1661]),\n",
       " tensor([3670, 1936, 1661,   13])]"
      ]
     },
     "execution_count": 10,
     "metadata": {},
     "output_type": "execute_result"
    }
   ],
   "source": [
    "dataset.target_ids"
   ]
  },
  {
   "cell_type": "code",
   "execution_count": 11,
   "id": "c79c0f80",
   "metadata": {},
   "outputs": [],
   "source": [
    "def create_dataloader_v1(txt, batch_size, max_length, \n",
    "                         stride, shuffle=True, drop_last=True,\n",
    "                         num_workers=0):\n",
    "\n",
    "    # Initialize the tokenizer\n",
    "    tokenizer = tiktoken.get_encoding(\"gpt2\")\n",
    "\n",
    "    # Create dataset\n",
    "    dataset = CreateGPTDatasetV1(txt, tokenizer, max_length, stride)\n",
    "\n",
    "    # Create dataloader\n",
    "    dataloader = DataLoader(\n",
    "        dataset,\n",
    "        batch_size=batch_size,\n",
    "        shuffle=shuffle,\n",
    "        drop_last=drop_last,\n",
    "        num_workers=num_workers\n",
    "    )\n",
    "\n",
    "    return dataloader"
   ]
  },
  {
   "cell_type": "code",
   "execution_count": 13,
   "id": "6dfe4899",
   "metadata": {},
   "outputs": [],
   "source": [
    "dataset = create_dataloader_v1(txt=txt, batch_size=2, max_length=context_length, stride=1)"
   ]
  },
  {
   "cell_type": "code",
   "execution_count": 15,
   "id": "42a6e1ca",
   "metadata": {},
   "outputs": [
    {
     "data": {
      "text/plain": [
       "[44,\n",
       " 21645,\n",
       " 12746,\n",
       " 318,\n",
       " 262,\n",
       " 749,\n",
       " 4388,\n",
       " 1074,\n",
       " 287,\n",
       " 3942,\n",
       " 9952,\n",
       " 4041,\n",
       " 13,\n",
       " 1119,\n",
       " 423,\n",
       " 1839,\n",
       " 262,\n",
       " 3670,\n",
       " 1936,\n",
       " 1661,\n",
       " 13]"
      ]
     },
     "execution_count": 15,
     "metadata": {},
     "output_type": "execute_result"
    }
   ],
   "source": [
    "txt_encoded"
   ]
  },
  {
   "cell_type": "code",
   "execution_count": 14,
   "id": "af663472",
   "metadata": {},
   "outputs": [
    {
     "data": {
      "text/plain": [
       "[tensor([[ 287, 3942, 9952, 4041],\n",
       "         [ 423, 1839,  262, 3670]]),\n",
       " tensor([[3942, 9952, 4041,   13],\n",
       "         [1839,  262, 3670, 1936]])]"
      ]
     },
     "execution_count": 14,
     "metadata": {},
     "output_type": "execute_result"
    }
   ],
   "source": [
    "data_ = iter(dataset)\n",
    "first_batch = next(data_)\n",
    "first_batch"
   ]
  },
  {
   "cell_type": "markdown",
   "id": "6ef0aff7",
   "metadata": {},
   "source": [
    "1 minibatch consisting 2 samples, inputs 1 and 2 followed by targets 1 and 2"
   ]
  },
  {
   "cell_type": "markdown",
   "id": "6ebcce92",
   "metadata": {},
   "source": [
    "More No of batches is good as it accelerates training\n",
    " "
   ]
  },
  {
   "cell_type": "markdown",
   "id": "f8c78142",
   "metadata": {},
   "source": [
    "The max values of stride =  Context Length, bcz all tokens get utilised and it would avoid overlap of tokens amongst batches as it would increase overfitting "
   ]
  },
  {
   "cell_type": "code",
   "execution_count": null,
   "id": "5a98dee8",
   "metadata": {},
   "outputs": [],
   "source": []
  }
 ],
 "metadata": {
  "kernelspec": {
   "display_name": "Python 3",
   "language": "python",
   "name": "python3"
  },
  "language_info": {
   "codemirror_mode": {
    "name": "ipython",
    "version": 3
   },
   "file_extension": ".py",
   "mimetype": "text/x-python",
   "name": "python",
   "nbconvert_exporter": "python",
   "pygments_lexer": "ipython3",
   "version": "3.10.12"
  }
 },
 "nbformat": 4,
 "nbformat_minor": 5
}
